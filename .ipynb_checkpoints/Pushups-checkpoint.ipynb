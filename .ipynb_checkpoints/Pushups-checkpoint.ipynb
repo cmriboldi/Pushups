{
 "cells": [
  {
   "cell_type": "code",
   "execution_count": 8,
   "metadata": {
    "collapsed": false
   },
   "outputs": [
    {
     "name": "stdout",
     "output_type": "stream",
     "text": [
      "1\n"
     ]
    }
   ],
   "source": [
    "import math\n",
    "\n",
    "worldRecord = 1500230\n",
    "setsPerDay = 3\n",
    "increasePerDay = 1\n",
    "\n",
    "def getYearlyAmount(setsPerDay, increasePerDay):\n",
    "    yearlyAmount = 0\n",
    "    for day in range(1,366):\n",
    "        yearlyAmount += day * setsPerDay * increasePerDay\n",
    "    return yearlyAmount\n",
    "\n",
    "def calcStartDate(worldRecord, setsPerDay, increasePerDay):\n",
    "    day = 1\n",
    "    yearTotal = getYearlyAmount(setsPerDay, increasePerDay)\n",
    "    yearlyDifference = (yearTotal + (366 * setsPerDay * increasePerDay) - (setsPerDay * increasePerDay)) - yearTotal\n",
    "    while(yearTotal < worldRecord):\n",
    "        day += 1\n",
    "        yearTotal += yearlyDifference\n",
    "    print(day)\n",
    "\n",
    "calcStartDate(worldRecord, setsPerDay, increasePerDay)"
   ]
  },
  {
   "cell_type": "code",
   "execution_count": 9,
   "metadata": {
    "collapsed": false
   },
   "outputs": [
    {
     "name": "stdout",
     "output_type": "stream",
     "text": [
      "1\n"
     ]
    }
   ],
   "source": [
    "def calcStartDateBetter(worldRecord, setsPerDay, increasePerDay):\n",
    "    daysOfYear = 365\n",
    "    yearDiff = daysOfYear*setsPerDay*increasePerDay\n",
    "    return max(round(math.ceil(worldRecord/yearDiff)) - math.floor(daysOfYear/2),1)\n",
    "\n",
    "\n",
    "print(calcStartDateBetter(worldRecord, setsPerDay, increasePerDay))"
   ]
  },
  {
   "cell_type": "code",
   "execution_count": null,
   "metadata": {
    "collapsed": true
   },
   "outputs": [],
   "source": []
  }
 ],
 "metadata": {
  "kernelspec": {
   "display_name": "Python 3",
   "language": "python",
   "name": "python3"
  },
  "language_info": {
   "codemirror_mode": {
    "name": "ipython",
    "version": 3
   },
   "file_extension": ".py",
   "mimetype": "text/x-python",
   "name": "python",
   "nbconvert_exporter": "python",
   "pygments_lexer": "ipython3",
   "version": "3.6.0"
  }
 },
 "nbformat": 4,
 "nbformat_minor": 2
}
